{
  "nbformat": 4,
  "nbformat_minor": 0,
  "metadata": {
    "colab": {
      "name": "word2vec.ipynb",
      "provenance": [],
      "collapsed_sections": []
    },
    "kernelspec": {
      "name": "python3",
      "display_name": "Python 3"
    },
    "language_info": {
      "name": "python"
    }
  },
  "cells": [
    {
      "cell_type": "code",
      "execution_count": 1,
      "metadata": {
        "id": "MRzcW58szaeo"
      },
      "outputs": [],
      "source": [
        "import nltk"
      ]
    },
    {
      "cell_type": "code",
      "source": [
        "from gensim.models import Word2Vec\n",
        "from nltk.corpus import stopwords"
      ],
      "metadata": {
        "id": "beqE51B86bAi"
      },
      "execution_count": 2,
      "outputs": []
    },
    {
      "cell_type": "code",
      "source": [
        "import re\n",
        "nltk.download('punkt')\n",
        "nltk.download('stopwords')"
      ],
      "metadata": {
        "colab": {
          "base_uri": "https://localhost:8080/"
        },
        "id": "oSK_JehA6iCI",
        "outputId": "a3206ab5-0f5e-4099-bb44-e8fdecb0fcd3"
      },
      "execution_count": 11,
      "outputs": [
        {
          "output_type": "stream",
          "name": "stdout",
          "text": [
            "[nltk_data] Downloading package punkt to /root/nltk_data...\n",
            "[nltk_data]   Package punkt is already up-to-date!\n",
            "[nltk_data] Downloading package stopwords to /root/nltk_data...\n",
            "[nltk_data]   Unzipping corpora/stopwords.zip.\n"
          ]
        },
        {
          "output_type": "execute_result",
          "data": {
            "text/plain": [
              "True"
            ]
          },
          "metadata": {},
          "execution_count": 11
        }
      ]
    },
    {
      "cell_type": "code",
      "source": [
        "paragraph = \"\"\"I have three visions for India. In 3000 years of our history, people from all over \n",
        "               the world have come and invaded us, captured our lands, conquered our minds. \n",
        "               From Alexander onwards, the Greeks, the Turks, the Moguls, the Portuguese, the British,\n",
        "               the French, the Dutch, all of them came and looted us, took over what was ours. \n",
        "               Yet we have not done this to any other nation. We have not conquered anyone. \n",
        "               We have not grabbed their land, their culture, \n",
        "               their history and tried to enforce our way of life on them. \n",
        "               Why? Because we respect the freedom of others.That is why my \n",
        "               first vision is that of freedom. I believe that India got its first vision of \n",
        "               this in 1857, when we started the War of Independence. It is this freedom that\n",
        "               we must protect and nurture and build on. If we are not free, no one will respect us.\n",
        "               My second vision for India’s development. For fifty years we have been a developing nation.\n",
        "               It is time we see ourselves as a developed nation. We are among the top 5 nations of the world\n",
        "               in terms of GDP. We have a 10 percent growth rate in most areas. Our poverty levels are falling.\n",
        "               Our achievements are being globally recognised today. Yet we lack the self-confidence to\n",
        "               see ourselves as a developed nation, self-reliant and self-assured. Isn’t this incorrect?\n",
        "               I have a third vision. India must stand up to the world. Because I believe that unless India \n",
        "               stands up to the world, no one will respect us. Only strength respects strength. We must be \n",
        "               strong not only as a military power but also as an economic power. Both must go hand-in-hand. \n",
        "               My good fortune was to have worked with three great minds. Dr. Vikram Sarabhai of the Dept. of \n",
        "               space, Professor Satish Dhawan, who succeeded him and Dr. Brahm Prakash, father of nuclear material.\n",
        "               I was lucky to have worked with all three of them closely and consider this the great opportunity of my life. \n",
        "               I see four milestones in my career\"\"\"\n"
      ],
      "metadata": {
        "id": "zqH-HhmT6jJb"
      },
      "execution_count": 4,
      "outputs": []
    },
    {
      "cell_type": "code",
      "source": [
        "# preprocessing the data\n",
        "\n",
        "text = re.sub(r'\\[[0-9]*\\]',' ',paragraph)\n",
        "text = re.sub(r'\\s+',' ', text)\n",
        "text = text.lower()\n",
        "text = re.sub(r'\\d',' ',text)\n",
        "text = re.sub(r'\\s+',' ',text)"
      ],
      "metadata": {
        "id": "yVYlrNau6mbg"
      },
      "execution_count": 5,
      "outputs": []
    },
    {
      "cell_type": "code",
      "source": [
        "#preparing the dataset\n",
        "sentences = nltk.sent_tokenize(text)"
      ],
      "metadata": {
        "id": "LBOIWNF37IDz"
      },
      "execution_count": 8,
      "outputs": []
    },
    {
      "cell_type": "code",
      "source": [
        "sentences = [nltk.word_tokenize(sentence) for sentence in sentences]"
      ],
      "metadata": {
        "id": "1jE_V-1s7PQt"
      },
      "execution_count": 9,
      "outputs": []
    },
    {
      "cell_type": "code",
      "source": [
        "for i in range(len(sentences)):\n",
        "  sentences[i] = [word for word in sentences[i] if word not in stopwords.words('english')]"
      ],
      "metadata": {
        "id": "ACloNJ5b7lhI"
      },
      "execution_count": 12,
      "outputs": []
    },
    {
      "cell_type": "code",
      "source": [
        "# Training the Word2Vec model\n",
        "model = Word2Vec(sentences, min_count=1)"
      ],
      "metadata": {
        "id": "QalB6eQX7vHL"
      },
      "execution_count": 13,
      "outputs": []
    },
    {
      "cell_type": "code",
      "source": [
        "words = model.wv.vocab"
      ],
      "metadata": {
        "id": "Hw_DPB9v8HEt"
      },
      "execution_count": 14,
      "outputs": []
    },
    {
      "cell_type": "code",
      "source": [
        "words  #no of words in the vocabulary"
      ],
      "metadata": {
        "colab": {
          "base_uri": "https://localhost:8080/"
        },
        "id": "bBMBvPAg8JVR",
        "outputId": "b0b8c5e2-37f9-489d-e6a9-cc2b0d65d8ab"
      },
      "execution_count": 15,
      "outputs": [
        {
          "output_type": "execute_result",
          "data": {
            "text/plain": [
              "{',': <gensim.models.keyedvectors.Vocab at 0x7faa2b2a66d0>,\n",
              " '.': <gensim.models.keyedvectors.Vocab at 0x7faa2b2a6210>,\n",
              " '?': <gensim.models.keyedvectors.Vocab at 0x7faa2b2def90>,\n",
              " 'achievements': <gensim.models.keyedvectors.Vocab at 0x7faa2b29c190>,\n",
              " 'alexander': <gensim.models.keyedvectors.Vocab at 0x7faa2b2dec10>,\n",
              " 'also': <gensim.models.keyedvectors.Vocab at 0x7faa2b29c6d0>,\n",
              " 'among': <gensim.models.keyedvectors.Vocab at 0x7faa2b29cd90>,\n",
              " 'anyone': <gensim.models.keyedvectors.Vocab at 0x7faa2b2de1d0>,\n",
              " 'areas': <gensim.models.keyedvectors.Vocab at 0x7faa2b29c8d0>,\n",
              " 'believe': <gensim.models.keyedvectors.Vocab at 0x7faa2b2deed0>,\n",
              " 'brahm': <gensim.models.keyedvectors.Vocab at 0x7faa32c0b110>,\n",
              " 'british': <gensim.models.keyedvectors.Vocab at 0x7faa2b2def50>,\n",
              " 'build': <gensim.models.keyedvectors.Vocab at 0x7faa2b29ca10>,\n",
              " 'came': <gensim.models.keyedvectors.Vocab at 0x7faa2b2ded10>,\n",
              " 'captured': <gensim.models.keyedvectors.Vocab at 0x7faa2b2dedd0>,\n",
              " 'career': <gensim.models.keyedvectors.Vocab at 0x7faa2e5aae90>,\n",
              " 'closely': <gensim.models.keyedvectors.Vocab at 0x7faa2e597f10>,\n",
              " 'come': <gensim.models.keyedvectors.Vocab at 0x7faa2b2a69d0>,\n",
              " 'conquered': <gensim.models.keyedvectors.Vocab at 0x7faa2b2de390>,\n",
              " 'consider': <gensim.models.keyedvectors.Vocab at 0x7faa2e597850>,\n",
              " 'culture': <gensim.models.keyedvectors.Vocab at 0x7faa2b2decd0>,\n",
              " 'dept': <gensim.models.keyedvectors.Vocab at 0x7faa2b29c510>,\n",
              " 'developed': <gensim.models.keyedvectors.Vocab at 0x7faa2b29c210>,\n",
              " 'developing': <gensim.models.keyedvectors.Vocab at 0x7faa2b29cb90>,\n",
              " 'development': <gensim.models.keyedvectors.Vocab at 0x7faa2b29ce10>,\n",
              " 'dhawan': <gensim.models.keyedvectors.Vocab at 0x7faa2b377310>,\n",
              " 'done': <gensim.models.keyedvectors.Vocab at 0x7faa2b2de350>,\n",
              " 'dr.': <gensim.models.keyedvectors.Vocab at 0x7faa2b29cc50>,\n",
              " 'dutch': <gensim.models.keyedvectors.Vocab at 0x7faa2b2dec90>,\n",
              " 'economic': <gensim.models.keyedvectors.Vocab at 0x7faa2b29c810>,\n",
              " 'enforce': <gensim.models.keyedvectors.Vocab at 0x7faa2b2dee50>,\n",
              " 'falling': <gensim.models.keyedvectors.Vocab at 0x7faa2b29c450>,\n",
              " 'father': <gensim.models.keyedvectors.Vocab at 0x7faa2df6c490>,\n",
              " 'fifty': <gensim.models.keyedvectors.Vocab at 0x7faa2b29c310>,\n",
              " 'first': <gensim.models.keyedvectors.Vocab at 0x7faa2b2de5d0>,\n",
              " 'fortune': <gensim.models.keyedvectors.Vocab at 0x7faa2b29ce90>,\n",
              " 'four': <gensim.models.keyedvectors.Vocab at 0x7faa2e5aae10>,\n",
              " 'free': <gensim.models.keyedvectors.Vocab at 0x7faa2b29cb10>,\n",
              " 'freedom': <gensim.models.keyedvectors.Vocab at 0x7faa2b2debd0>,\n",
              " 'french': <gensim.models.keyedvectors.Vocab at 0x7faa2b2de6d0>,\n",
              " 'gdp': <gensim.models.keyedvectors.Vocab at 0x7faa2b29cf10>,\n",
              " 'globally': <gensim.models.keyedvectors.Vocab at 0x7faa2b29c590>,\n",
              " 'go': <gensim.models.keyedvectors.Vocab at 0x7faa2b29cdd0>,\n",
              " 'good': <gensim.models.keyedvectors.Vocab at 0x7faa2b29cc90>,\n",
              " 'got': <gensim.models.keyedvectors.Vocab at 0x7faa2b29c5d0>,\n",
              " 'grabbed': <gensim.models.keyedvectors.Vocab at 0x7faa2b2de8d0>,\n",
              " 'great': <gensim.models.keyedvectors.Vocab at 0x7faa2b29c050>,\n",
              " 'greeks': <gensim.models.keyedvectors.Vocab at 0x7faa2b2dea90>,\n",
              " 'growth': <gensim.models.keyedvectors.Vocab at 0x7faa2b29cbd0>,\n",
              " 'hand-in-hand': <gensim.models.keyedvectors.Vocab at 0x7faa2b29c0d0>,\n",
              " 'history': <gensim.models.keyedvectors.Vocab at 0x7faa2b2a6990>,\n",
              " 'incorrect': <gensim.models.keyedvectors.Vocab at 0x7faa2b29c290>,\n",
              " 'independence': <gensim.models.keyedvectors.Vocab at 0x7faa2b29cb50>,\n",
              " 'india': <gensim.models.keyedvectors.Vocab at 0x7faa2b2a6810>,\n",
              " 'invaded': <gensim.models.keyedvectors.Vocab at 0x7faa2b2a6850>,\n",
              " 'lack': <gensim.models.keyedvectors.Vocab at 0x7faa2b29c910>,\n",
              " 'land': <gensim.models.keyedvectors.Vocab at 0x7faa2b2de690>,\n",
              " 'lands': <gensim.models.keyedvectors.Vocab at 0x7faa2b2de990>,\n",
              " 'levels': <gensim.models.keyedvectors.Vocab at 0x7faa2b29ca90>,\n",
              " 'life': <gensim.models.keyedvectors.Vocab at 0x7faa2b2dea50>,\n",
              " 'looted': <gensim.models.keyedvectors.Vocab at 0x7faa2b2de910>,\n",
              " 'lucky': <gensim.models.keyedvectors.Vocab at 0x7faa2b9f6190>,\n",
              " 'material': <gensim.models.keyedvectors.Vocab at 0x7faa2df6c790>,\n",
              " 'milestones': <gensim.models.keyedvectors.Vocab at 0x7faa2e5aa610>,\n",
              " 'military': <gensim.models.keyedvectors.Vocab at 0x7faa2b29cd50>,\n",
              " 'minds': <gensim.models.keyedvectors.Vocab at 0x7faa2b2de890>,\n",
              " 'moguls': <gensim.models.keyedvectors.Vocab at 0x7faa2b2deb10>,\n",
              " 'must': <gensim.models.keyedvectors.Vocab at 0x7faa2b29c550>,\n",
              " 'nation': <gensim.models.keyedvectors.Vocab at 0x7faa2b2dea10>,\n",
              " 'nations': <gensim.models.keyedvectors.Vocab at 0x7faa2b29c750>,\n",
              " 'nuclear': <gensim.models.keyedvectors.Vocab at 0x7faa2df6c710>,\n",
              " 'nurture': <gensim.models.keyedvectors.Vocab at 0x7faa2b29c7d0>,\n",
              " 'one': <gensim.models.keyedvectors.Vocab at 0x7faa2b29ce50>,\n",
              " 'onwards': <gensim.models.keyedvectors.Vocab at 0x7faa2b2de510>,\n",
              " 'opportunity': <gensim.models.keyedvectors.Vocab at 0x7faa2e5aa990>,\n",
              " 'others.that': <gensim.models.keyedvectors.Vocab at 0x7faa2b2de9d0>,\n",
              " 'people': <gensim.models.keyedvectors.Vocab at 0x7faa2b2a6890>,\n",
              " 'percent': <gensim.models.keyedvectors.Vocab at 0x7faa2b29c650>,\n",
              " 'portuguese': <gensim.models.keyedvectors.Vocab at 0x7faa2b2de7d0>,\n",
              " 'poverty': <gensim.models.keyedvectors.Vocab at 0x7faa2b29c790>,\n",
              " 'power': <gensim.models.keyedvectors.Vocab at 0x7faa2b29cf90>,\n",
              " 'prakash': <gensim.models.keyedvectors.Vocab at 0x7faa2e5fa610>,\n",
              " 'professor': <gensim.models.keyedvectors.Vocab at 0x7faa2b29cad0>,\n",
              " 'protect': <gensim.models.keyedvectors.Vocab at 0x7faa2b29cfd0>,\n",
              " 'rate': <gensim.models.keyedvectors.Vocab at 0x7faa2b29cc10>,\n",
              " 'recognised': <gensim.models.keyedvectors.Vocab at 0x7faa2b29cd10>,\n",
              " 'respect': <gensim.models.keyedvectors.Vocab at 0x7faa2b2de0d0>,\n",
              " 'respects': <gensim.models.keyedvectors.Vocab at 0x7faa2b29c710>,\n",
              " 'sarabhai': <gensim.models.keyedvectors.Vocab at 0x7faa2b29ccd0>,\n",
              " 'satish': <gensim.models.keyedvectors.Vocab at 0x7faa2b377290>,\n",
              " 'second': <gensim.models.keyedvectors.Vocab at 0x7faa2b29c110>,\n",
              " 'see': <gensim.models.keyedvectors.Vocab at 0x7faa2b29ced0>,\n",
              " 'self-assured': <gensim.models.keyedvectors.Vocab at 0x7faa2b29c410>,\n",
              " 'self-confidence': <gensim.models.keyedvectors.Vocab at 0x7faa2b29ca50>,\n",
              " 'self-reliant': <gensim.models.keyedvectors.Vocab at 0x7faa2b29c3d0>,\n",
              " 'space': <gensim.models.keyedvectors.Vocab at 0x7faa2b29c390>,\n",
              " 'stand': <gensim.models.keyedvectors.Vocab at 0x7faa2b29c9d0>,\n",
              " 'stands': <gensim.models.keyedvectors.Vocab at 0x7faa2b29c150>,\n",
              " 'started': <gensim.models.keyedvectors.Vocab at 0x7faa2b29c690>,\n",
              " 'strength': <gensim.models.keyedvectors.Vocab at 0x7faa2b29c2d0>,\n",
              " 'strong': <gensim.models.keyedvectors.Vocab at 0x7faa2b29c950>,\n",
              " 'succeeded': <gensim.models.keyedvectors.Vocab at 0x7faa2e67fb90>,\n",
              " 'terms': <gensim.models.keyedvectors.Vocab at 0x7faa2b29c610>,\n",
              " 'third': <gensim.models.keyedvectors.Vocab at 0x7faa2b29c890>,\n",
              " 'three': <gensim.models.keyedvectors.Vocab at 0x7faa2b2a62d0>,\n",
              " 'time': <gensim.models.keyedvectors.Vocab at 0x7faa2b29c490>,\n",
              " 'today': <gensim.models.keyedvectors.Vocab at 0x7faa2b29c4d0>,\n",
              " 'took': <gensim.models.keyedvectors.Vocab at 0x7faa2b2de610>,\n",
              " 'top': <gensim.models.keyedvectors.Vocab at 0x7faa2b29c350>,\n",
              " 'tried': <gensim.models.keyedvectors.Vocab at 0x7faa2b2ded50>,\n",
              " 'turks': <gensim.models.keyedvectors.Vocab at 0x7faa2b2de950>,\n",
              " 'unless': <gensim.models.keyedvectors.Vocab at 0x7faa2b29c250>,\n",
              " 'us': <gensim.models.keyedvectors.Vocab at 0x7faa2b2a6310>,\n",
              " 'vikram': <gensim.models.keyedvectors.Vocab at 0x7faa2b29c090>,\n",
              " 'vision': <gensim.models.keyedvectors.Vocab at 0x7faa2b2de050>,\n",
              " 'visions': <gensim.models.keyedvectors.Vocab at 0x7faa2b2a6350>,\n",
              " 'war': <gensim.models.keyedvectors.Vocab at 0x7faa2b29c990>,\n",
              " 'way': <gensim.models.keyedvectors.Vocab at 0x7faa2b2de450>,\n",
              " 'worked': <gensim.models.keyedvectors.Vocab at 0x7faa2b29cf50>,\n",
              " 'world': <gensim.models.keyedvectors.Vocab at 0x7faa2b2a6950>,\n",
              " 'years': <gensim.models.keyedvectors.Vocab at 0x7faa2b2a68d0>,\n",
              " 'yet': <gensim.models.keyedvectors.Vocab at 0x7faa2b2de190>,\n",
              " '’': <gensim.models.keyedvectors.Vocab at 0x7faa2b29c850>}"
            ]
          },
          "metadata": {},
          "execution_count": 15
        }
      ]
    },
    {
      "cell_type": "code",
      "source": [
        "# Finding Word vectors\n",
        "vector = model.wv['war']"
      ],
      "metadata": {
        "id": "dyFWiJCT8K1n"
      },
      "execution_count": 16,
      "outputs": []
    },
    {
      "cell_type": "code",
      "source": [
        "similar = model.wv.most_similar('vikram')"
      ],
      "metadata": {
        "id": "R56NRl248SOU"
      },
      "execution_count": 17,
      "outputs": []
    },
    {
      "cell_type": "code",
      "source": [
        "vector"
      ],
      "metadata": {
        "colab": {
          "base_uri": "https://localhost:8080/"
        },
        "id": "PrdCvZ_L8VIz",
        "outputId": "43ed1279-4e91-4ed0-b382-9f6e431b6aac"
      },
      "execution_count": 18,
      "outputs": [
        {
          "output_type": "execute_result",
          "data": {
            "text/plain": [
              "array([ 6.73055416e-04, -2.37658736e-03, -2.36321404e-03,  2.44895159e-03,\n",
              "       -5.74940117e-04, -1.91637338e-03, -3.47812870e-03, -1.68676872e-03,\n",
              "       -2.00453075e-03,  3.13448580e-03, -2.89282831e-03,  3.33261956e-03,\n",
              "        4.96583246e-03, -3.04455729e-03,  1.96774420e-03,  4.23364807e-03,\n",
              "       -7.64538825e-04,  3.86509183e-03,  7.62552489e-04, -2.11713696e-03,\n",
              "       -4.26592631e-03,  2.24087434e-03,  5.02528390e-04,  5.76598395e-04,\n",
              "        2.20675161e-03,  4.68844594e-03, -3.70451971e-03,  2.37299968e-03,\n",
              "        2.57957331e-03,  4.01811535e-03,  1.38271716e-03,  2.28917971e-03,\n",
              "       -1.31797759e-04,  2.38282009e-04, -3.94007191e-03, -3.69214662e-03,\n",
              "       -3.41985817e-03,  2.61241291e-03,  2.44590361e-03,  2.03604086e-05,\n",
              "       -3.52193997e-03,  3.97559209e-03,  3.63492384e-03, -1.51027448e-03,\n",
              "       -3.93187627e-03,  3.08178528e-03,  2.25638832e-05, -3.88547056e-03,\n",
              "       -4.04181238e-03,  1.08782772e-03, -3.61107918e-03,  9.99134150e-04,\n",
              "        8.72299133e-04, -3.28413065e-04,  2.14884942e-03, -3.30665614e-03,\n",
              "       -4.85429587e-03,  1.17267366e-03,  3.41755804e-03,  3.76164354e-03,\n",
              "       -1.17408636e-03,  4.41841874e-03,  3.41158803e-03, -3.63140926e-03,\n",
              "       -4.27356455e-03,  2.76224059e-03, -2.15631700e-03, -4.81619313e-03,\n",
              "       -2.88717123e-03, -4.64915996e-03,  1.24548492e-03,  2.31120299e-04,\n",
              "        3.51286377e-03,  4.63491166e-03, -3.96575453e-03,  1.18634445e-04,\n",
              "       -2.85487855e-03, -4.74433554e-03,  2.76204804e-03, -8.85709538e-04,\n",
              "        3.58926505e-03,  2.91318400e-03,  1.82072143e-03, -2.57214648e-03,\n",
              "        2.59731314e-03,  1.56877108e-03, -2.91980593e-03,  1.17686042e-03,\n",
              "       -3.71460337e-03,  1.50154356e-03,  3.05077271e-03, -8.30970472e-04,\n",
              "       -1.82380457e-03,  4.30479273e-03,  4.51417436e-05,  3.91346635e-03,\n",
              "       -3.04792007e-03, -3.31905717e-03, -2.01584143e-03, -1.59264659e-03],\n",
              "      dtype=float32)"
            ]
          },
          "metadata": {},
          "execution_count": 18
        }
      ]
    },
    {
      "cell_type": "code",
      "source": [
        "similar"
      ],
      "metadata": {
        "colab": {
          "base_uri": "https://localhost:8080/"
        },
        "id": "bYKlmH1C8W6g",
        "outputId": "03c8eb01-156a-47c1-ba23-9faae3128f78"
      },
      "execution_count": 20,
      "outputs": [
        {
          "output_type": "execute_result",
          "data": {
            "text/plain": [
              "[('life', 0.26623284816741943),\n",
              " ('developing', 0.19687479734420776),\n",
              " ('others.that', 0.18842971324920654),\n",
              " ('brahm', 0.18090826272964478),\n",
              " ('’', 0.1648087203502655),\n",
              " ('space', 0.1469031721353531),\n",
              " ('greeks', 0.1443828046321869),\n",
              " ('today', 0.1374770849943161),\n",
              " ('come', 0.13477079570293427),\n",
              " ('milestones', 0.12590926885604858)]"
            ]
          },
          "metadata": {},
          "execution_count": 20
        }
      ]
    },
    {
      "cell_type": "code",
      "source": [
        ""
      ],
      "metadata": {
        "id": "NTUgBnWG8XdA"
      },
      "execution_count": null,
      "outputs": []
    }
  ]
}